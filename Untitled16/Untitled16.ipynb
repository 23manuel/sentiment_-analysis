{
 "cells": [
  {
   "cell_type": "code",
   "execution_count": 9,
   "id": "edf40bce-2371-43c2-8d85-aba155bde751",
   "metadata": {},
   "outputs": [],
   "source": [
    "import streamlit as st\n",
    "import pandas as pd\n",
    "import plotly.express as px\n",
    "from transformers import pipeline\n",
    "import gspread\n",
    "from google.oauth2 import service_account\n",
    "from google.oauth2.service_account import Credentials"
   ]
  },
  {
   "cell_type": "raw",
   "id": "bf3ffebc-9a70-4681-9860-31c055e10000",
   "metadata": {},
   "source": [
    "# Authenticate and connect to Google Sheets\n",
    "scope = [\"https://spreadsheets.google.com/feeds\", \"https://www.googleapis.com/auth/drive\"]\n",
    "creds = service_account.from_json_keyfile_name(r\"automated-analysis-466920-4f0f8ab4179f.json..json.json\", scope)\n",
    "client = gspread.authorize(creds)"
   ]
  },
  {
   "cell_type": "code",
   "execution_count": 16,
   "id": "4bf59a33-60b2-4a7a-a6b2-8426910742c2",
   "metadata": {},
   "outputs": [],
   "source": [
    "# Define scope and credentials path\n",
    "SCOPES = [\"https://www.googleapis.com/auth/spreadsheets\", \"https://www.googleapis.com/auth/drive\"]\n",
    "creds_path = (r\"C:\\Users\\USER\\automated-analysis-466920-4f0f8ab4179f.json.json.json\")\n",
    "credentials = Credentials.from_service_account_file(creds_path, scopes=SCOPES)\n",
    "\n",
    "# Connect to the Google Sheet\n",
    "client = gspread.authorize(credentials)"
   ]
  },
  {
   "cell_type": "code",
   "execution_count": 17,
   "id": "5ef9bdbe-ad76-4be9-82d1-43ccf38471dd",
   "metadata": {},
   "outputs": [],
   "source": [
    "# Open Sheet by name\n",
    "sheet = client.open(\"Sentiment Analysis Tracker\").sheet1"
   ]
  },
  {
   "cell_type": "code",
   "execution_count": 19,
   "id": "2c5c090e-d479-40f8-a2f5-52df35a8e2d6",
   "metadata": {},
   "outputs": [
    {
     "name": "stdout",
     "output_type": "stream",
     "text": [
      "     client_id                    company_name    industry signup_date  \\\n",
      "0            1                       ZillaTech        SaaS   1/10/2023   \n",
      "1            2     Anderson, Beltran and Banks     Finance   3/14/2022   \n",
      "2            3                 Acosta and Sons        SaaS    3/7/2022   \n",
      "3            4                     Perez Group  Healthcare   7/13/2024   \n",
      "4            5                   Hall and Sons   Education   8/16/2022   \n",
      "..         ...                             ...         ...         ...   \n",
      "138        138                    Mckenzie LLC     Finance   9/23/2021   \n",
      "139        139        Lara, House and Figueroa   Insurance   7/19/2022   \n",
      "140        140  Wilkinson, Rowland and Stanton  Healthcare   2/12/2022   \n",
      "141        141                    Andersen PLC   Education    6/7/2023   \n",
      "142        142       Coffey, Dudley and Powers      Retail   3/15/2022   \n",
      "\n",
      "    last_payment_date  monthly_fee  total_tickets  avg_response_time_hrs  \\\n",
      "0            7/1/2025       100000              5                    2.5   \n",
      "1          12/31/2023        26187              6                    3.5   \n",
      "2           4/20/2024        23817             11                    1.3   \n",
      "3           7/25/2024        86204             18                    3.1   \n",
      "4            3/3/2024        56547             17                    3.7   \n",
      "..                ...          ...            ...                    ...   \n",
      "138        12/12/2023        70367              6                    3.5   \n",
      "139          5/3/2024        91244              8                    4.1   \n",
      "140         4/28/2024        83471              7                    2.8   \n",
      "141         7/10/2025        38901              3                    1.7   \n",
      "142         6/25/2024        69642             10                    3.2   \n",
      "\n",
      "     meetings_attended  feature_usage_pct  nps_score  churned  \\\n",
      "0                    3                 85          9        0   \n",
      "1                    3                 64         57        0   \n",
      "2                    2                 53        -45        0   \n",
      "3                   10                 83         -6        1   \n",
      "4                    2                 87         65        0   \n",
      "..                 ...                ...        ...      ...   \n",
      "138                  3                 79         31        0   \n",
      "139                  5                 85         50        0   \n",
      "140                  4                 87         55        0   \n",
      "141                  2                 64        -10        0   \n",
      "142                  4                 76         21        0   \n",
      "\n",
      "                                              Feedback  \n",
      "0    “Fantastic platform. Your team is always respo...  \n",
      "1    “The system is okay, but support could be quic...  \n",
      "2    “Your solution is useful, but there’s been no ...  \n",
      "3    “Honestly, onboarding was confusing. Support t...  \n",
      "4    “Your team has been great! The tools have impr...  \n",
      "..                                                 ...  \n",
      "138  \"Unfortunately, the service didn’t meet our ex...  \n",
      "139  \"Fantastic experience! We’ve embedded the plat...  \n",
      "140  \"Service is lacking. We expected a smoother ex...  \n",
      "141  \"It’s been decent. We like the core features b...  \n",
      "142  \"Unfortunately, the service didn’t meet our ex...  \n",
      "\n",
      "[143 rows x 13 columns]\n"
     ]
    }
   ],
   "source": [
    "# Read data into DataFrame\n",
    "data = pd.DataFrame(sheet.get_all_records())\n",
    "print(data)"
   ]
  },
  {
   "cell_type": "code",
   "execution_count": 20,
   "id": "dc26171e-4dbd-46d5-8586-adeddf21eeaa",
   "metadata": {},
   "outputs": [
    {
     "name": "stderr",
     "output_type": "stream",
     "text": [
      "No model was supplied, defaulted to distilbert/distilbert-base-uncased-finetuned-sst-2-english and revision 714eb0f (https://huggingface.co/distilbert/distilbert-base-uncased-finetuned-sst-2-english).\n",
      "Using a pipeline without specifying a model name and revision in production is not recommended.\n"
     ]
    },
    {
     "data": {
      "application/vnd.jupyter.widget-view+json": {
       "model_id": "59395964c7794c1685d71cbab6adbc21",
       "version_major": 2,
       "version_minor": 0
      },
      "text/plain": [
       "config.json:   0%|          | 0.00/629 [00:00<?, ?B/s]"
      ]
     },
     "metadata": {},
     "output_type": "display_data"
    },
    {
     "data": {
      "application/vnd.jupyter.widget-view+json": {
       "model_id": "e3db018db4d44b029cb20b80d7aaca16",
       "version_major": 2,
       "version_minor": 0
      },
      "text/plain": [
       "model.safetensors:   0%|          | 0.00/268M [00:00<?, ?B/s]"
      ]
     },
     "metadata": {},
     "output_type": "display_data"
    },
    {
     "data": {
      "application/vnd.jupyter.widget-view+json": {
       "model_id": "93505d590e6b4666a991879c2e3e14f7",
       "version_major": 2,
       "version_minor": 0
      },
      "text/plain": [
       "tokenizer_config.json:   0%|          | 0.00/48.0 [00:00<?, ?B/s]"
      ]
     },
     "metadata": {},
     "output_type": "display_data"
    },
    {
     "data": {
      "application/vnd.jupyter.widget-view+json": {
       "model_id": "d4ec3e44deb148e8881356d5379250d2",
       "version_major": 2,
       "version_minor": 0
      },
      "text/plain": [
       "vocab.txt: 0.00B [00:00, ?B/s]"
      ]
     },
     "metadata": {},
     "output_type": "display_data"
    },
    {
     "name": "stderr",
     "output_type": "stream",
     "text": [
      "Device set to use cpu\n"
     ]
    },
    {
     "data": {
      "application/vnd.jupyter.widget-view+json": {
       "model_id": "59801cc66e034a4b9cebf2f8830c9d19",
       "version_major": 2,
       "version_minor": 0
      },
      "text/plain": [
       "config.json: 0.00B [00:00, ?B/s]"
      ]
     },
     "metadata": {},
     "output_type": "display_data"
    },
    {
     "data": {
      "application/vnd.jupyter.widget-view+json": {
       "model_id": "38a38131248c497e8bfaa401fb85c0f5",
       "version_major": 2,
       "version_minor": 0
      },
      "text/plain": [
       "pytorch_model.bin:   0%|          | 0.00/329M [00:00<?, ?B/s]"
      ]
     },
     "metadata": {},
     "output_type": "display_data"
    },
    {
     "data": {
      "application/vnd.jupyter.widget-view+json": {
       "model_id": "a6e76d5106dc42ec9a9956cf7b0b685f",
       "version_major": 2,
       "version_minor": 0
      },
      "text/plain": [
       "tokenizer_config.json:   0%|          | 0.00/294 [00:00<?, ?B/s]"
      ]
     },
     "metadata": {},
     "output_type": "display_data"
    },
    {
     "data": {
      "application/vnd.jupyter.widget-view+json": {
       "model_id": "782b97017cf94c67be3886dc78827891",
       "version_major": 2,
       "version_minor": 0
      },
      "text/plain": [
       "vocab.json: 0.00B [00:00, ?B/s]"
      ]
     },
     "metadata": {},
     "output_type": "display_data"
    },
    {
     "data": {
      "application/vnd.jupyter.widget-view+json": {
       "model_id": "a3d6ffce8b74402c82548cd11a3edef7",
       "version_major": 2,
       "version_minor": 0
      },
      "text/plain": [
       "model.safetensors:   0%|          | 0.00/329M [00:00<?, ?B/s]"
      ]
     },
     "metadata": {},
     "output_type": "display_data"
    },
    {
     "data": {
      "application/vnd.jupyter.widget-view+json": {
       "model_id": "717a66badbeb4c47a4558d9f1fd9b0fc",
       "version_major": 2,
       "version_minor": 0
      },
      "text/plain": [
       "merges.txt: 0.00B [00:00, ?B/s]"
      ]
     },
     "metadata": {},
     "output_type": "display_data"
    },
    {
     "data": {
      "application/vnd.jupyter.widget-view+json": {
       "model_id": "d5ce3f77a3bf48ca834f3673ff185642",
       "version_major": 2,
       "version_minor": 0
      },
      "text/plain": [
       "tokenizer.json: 0.00B [00:00, ?B/s]"
      ]
     },
     "metadata": {},
     "output_type": "display_data"
    },
    {
     "data": {
      "application/vnd.jupyter.widget-view+json": {
       "model_id": "9705b33a2ebf48d4aade2d631740816a",
       "version_major": 2,
       "version_minor": 0
      },
      "text/plain": [
       "special_tokens_map.json:   0%|          | 0.00/239 [00:00<?, ?B/s]"
      ]
     },
     "metadata": {},
     "output_type": "display_data"
    },
    {
     "name": "stderr",
     "output_type": "stream",
     "text": [
      "Device set to use cpu\n"
     ]
    }
   ],
   "source": [
    "# Load NLP models\n",
    "sentiment_pipeline = pipeline(\"sentiment-analysis\")\n",
    "emotion_pipeline = pipeline(\"text-classification\", model=\"j-hartmann/emotion-english-distilroberta-base\")"
   ]
  },
  {
   "cell_type": "code",
   "execution_count": 21,
   "id": "2fa3ec39-01d2-444c-a3af-d724fe044cca",
   "metadata": {},
   "outputs": [],
   "source": [
    "# Feedback classifier\n",
    "def classify_feedback(row):\n",
    "    sent = sentiment_pipeline(row['Feedback'])[0]['label']\n",
    "    emo = emotion_pipeline(row['Feedback'])[0]['label']\n",
    "    keyword_map = {\n",
    "        \"joy\": \"general satisfaction\",\n",
    "        \"anger\": \"support\",\n",
    "        \"disgust\": \"performance\",\n",
    "        \"fear\": \"security\",\n",
    "        \"sadness\": \"billing\"\n",
    "    }\n",
    "    category = keyword_map.get(emo.lower(), \"general\")\n",
    "    return pd.Series([sent, emo, category])"
   ]
  },
  {
   "cell_type": "code",
   "execution_count": 22,
   "id": "068059e7-329d-40a4-998e-8d531830cc3b",
   "metadata": {},
   "outputs": [
    {
     "name": "stderr",
     "output_type": "stream",
     "text": [
      "C:\\Users\\USER\\anaconda3\\Lib\\site-packages\\torch\\nn\\modules\\module.py:1762: FutureWarning: `encoder_attention_mask` is deprecated and will be removed in version 4.55.0 for `RobertaSdpaSelfAttention.forward`.\n",
      "  return forward_call(*args, **kwargs)\n"
     ]
    }
   ],
   "source": [
    "data[['Sentiment', 'Emotion', 'Category']] = data.apply(classify_feedback, axis=1)"
   ]
  },
  {
   "cell_type": "code",
   "execution_count": 24,
   "id": "cdc1ce2f-19e4-4c20-8444-f6cbad5c0489",
   "metadata": {},
   "outputs": [
    {
     "data": {
      "text/plain": [
       "DeltaGenerator()"
      ]
     },
     "execution_count": 24,
     "metadata": {},
     "output_type": "execute_result"
    }
   ],
   "source": [
    "# Dashboard\n",
    "st.title(\"📈 Live Client Feedback Dashboard\")\n",
    "st.markdown(\"Updated in real-time from Google Sheets\")"
   ]
  },
  {
   "cell_type": "code",
   "execution_count": 25,
   "id": "ba398db6-d8ee-4001-8727-00567a31b9cc",
   "metadata": {},
   "outputs": [],
   "source": [
    "# Visuals\n",
    "fig1 = px.pie(data, names='churned', title='Churn Distribution', hole=0.3)\n",
    "fig2 = px.histogram(data, x=\"Emotion\", color=\"Sentiment\", title=\"Emotion by Sentiment\")"
   ]
  },
  {
   "cell_type": "code",
   "execution_count": 26,
   "id": "68ca5afc-6b2d-4ccd-b42f-60483fc9ea7c",
   "metadata": {},
   "outputs": [
    {
     "data": {
      "text/plain": [
       "DeltaGenerator()"
      ]
     },
     "execution_count": 26,
     "metadata": {},
     "output_type": "execute_result"
    }
   ],
   "source": [
    "st.plotly_chart(fig1)\n",
    "st.plotly_chart(fig2)\n",
    "st.subheader(\"Client Feedback Insights\")\n",
    "st.dataframe(data[['company_name', 'Sentiment', 'Emotion', 'Category', 'Feedback']])"
   ]
  },
  {
   "cell_type": "code",
   "execution_count": null,
   "id": "3f69667d-8c24-40d6-9dcf-d1786e42b311",
   "metadata": {},
   "outputs": [],
   "source": []
  }
 ],
 "metadata": {
  "kernelspec": {
   "display_name": "Python [conda env:base] *",
   "language": "python",
   "name": "conda-base-py"
  },
  "language_info": {
   "codemirror_mode": {
    "name": "ipython",
    "version": 3
   },
   "file_extension": ".py",
   "mimetype": "text/x-python",
   "name": "python",
   "nbconvert_exporter": "python",
   "pygments_lexer": "ipython3",
   "version": "3.12.7"
  }
 },
 "nbformat": 4,
 "nbformat_minor": 5
}
